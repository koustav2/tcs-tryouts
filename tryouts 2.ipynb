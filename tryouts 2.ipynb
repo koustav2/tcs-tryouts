{
 "cells": [
  {
   "cell_type": "markdown",
   "metadata": {},
   "source": [
    "Perform the following operations using Strings, Lists and Tuples in Python. (1) Perform the following operations in stringops - (a) In the variable a get the input string from the user and display the characters in position 3 and position 4. (b) Display the characters in string a from position 6 to position 2 starting the count from end of the string. (c) Display the length of the string a. (d) Remove any white spaces if present in the beginning or at the end of the string a and display it. (e) Replace the character present in position 5 to character p in string a and display it. (f) Convert the string a to lower case and display it. (2) Perform the following operations in stringopss - (a) In variable a get the input string from the user and display number of times the character present in the position 4 appears in the string. (b) Display the encoded version of the string a. (c) Check whether all the characters in string a are digits and display the result. (d) Check for the first occurrence of the letter l in string a when you search only between position 2 and position 5 and display the position. (e) Check for the last occurrence of the word W in the string a and display the position. \n",
    "(3) Perform the following operations in listup - (a) Create an empty list using lst. Create an variable ele and get 5 inputs from the user and append it to list lst. (b) Display the alternate numbers from list lst starting from position 1. (c) Display the alternate numbers from list lst starting from position 0. (d) Convert the list lst to tuple and save it in a variable named tup and display the length of the tuple. (e) Convert the tuple tup to list and change the value present in position 1 in the list as 5 . Convert the list back to tuple tup and display the tuple tup."
   ]
  },
  {
   "cell_type": "code",
   "execution_count": null,
   "metadata": {},
   "outputs": [],
   "source": [
    "import os\n",
    "\n",
    "def stringops():\n",
    "    a= input()\n",
    "    print('Enter a string: '+a[3:5])\n",
    "    print(a[-6:-3])\n",
    "    print(len(a))\n",
    "    x = a.strip()\n",
    "    print(x)\n",
    "    print(a.replace(a[5],\"p\"))\n",
    "    print(a.lower())\n",
    "    \n",
    "    \n",
    "    \n",
    "    \n",
    "    \n",
    "\n",
    "def stringopss():\n",
    "    a=input()\n",
    "    print('Enter a string: '+str(a.count(a[4])))\n",
    "    print(a.encode())\n",
    "    print(a.isdecimal())\n",
    "    print(a.find('l',2,6))\n",
    "    print(a.rfind('W'))\n",
    "def listup():\n",
    "    lst =list()\n",
    "    for i in range(0,5):\n",
    "        ele = int(input())\n",
    "        lst.append(ele) \n",
    "    print(lst[1::2])\n",
    "    print(lst[0::2])\n",
    "    lst[1] = 5\n",
    "    tup = tuple(lst)\n",
    "    print(len(tup))\n",
    "    print(tup)\n",
    "\n",
    "    \n",
    "    \n",
    "    \n",
    "    \n",
    "    \n",
    "\n",
    "stringops()\n",
    "stringopss()\n",
    "listup()"
   ]
  }
 ],
 "metadata": {
  "interpreter": {
   "hash": "8aadd5d84131220a2bfbf02f64b6eea786fea01db342529ad86eb1d7d280b4a7"
  },
  "kernelspec": {
   "display_name": "Python 3.10.0 64-bit",
   "language": "python",
   "name": "python3"
  },
  "language_info": {
   "codemirror_mode": {
    "name": "ipython",
    "version": 3
   },
   "file_extension": ".py",
   "mimetype": "text/x-python",
   "name": "python",
   "nbconvert_exporter": "python",
   "pygments_lexer": "ipython3",
   "version": "3.10.0"
  },
  "orig_nbformat": 4
 },
 "nbformat": 4,
 "nbformat_minor": 2
}
