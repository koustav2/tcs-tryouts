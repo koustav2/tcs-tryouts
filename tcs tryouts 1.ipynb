{
 "cells": [
  {
   "cell_type": "markdown",
   "metadata": {},
   "source": [
    "Perform the following operations using basic programming concepts in python - (1) Perform the following operations in sim_int so as to calculate the simple interest - (a) In the variables p,n,r get the input from the user so as to get the principal amount ,time and rate of interest from the user. (b) In the variable si perform operations in order to calculate the simple interest. Hint - The formula for calculating simple interest is - (Principal Amount*Time*Rate)/100 . (c) Display the simple interest value stored in variable si and also display all the objects defined in the current namespaces. (2) Perform the following operations in ceil_floor to evaluate the given expression - (a) In the variable a get the input from the user so as to evaluate the expression from the given input and it gives the ceil value as the output. (b) In the variable b get the input from the user so as to evaluate the expression from the given input and it gives the floor value as the output. (c) Display the values stored in variables a and b. (3) Perform the following operations in lists to get the square root values from the given values - (a) Create an empty list using lst. Create an variable ele and get 5 inputs from user. (b) Perform square root on each values and append it to the list lst. (c) Display the list lst and also type of the variable ele."
   ]
  },
  {
   "cell_type": "code",
   "execution_count": null,
   "metadata": {},
   "outputs": [
    {
     "name": "stdout",
     "output_type": "stream",
     "text": [
      "The Simple Interest is 150.0\n",
      "['n', 'p', 'r', 'si']\n",
      "4\n",
      "3\n",
      "[2.24, 3.0, 2.65, 5.0, 3.0]\n",
      "<class 'float'>\n"
     ]
    },
    {
     "data": {
      "text/plain": [
       "\"'3000\\n5\\n1\\n5.5+6.5-8.5\\n5.5+6.5-8.5\\n5\\n6\\n7\\n8\\n10\""
      ]
     },
     "metadata": {},
     "output_type": "display_data"
    }
   ],
   "source": [
    "import os\n",
    "#Import the necessary packages\n",
    "import math\n",
    "\n",
    "def sim_int(p,n,r): \n",
    "    p=int(input())\n",
    "    n=int(input()) \n",
    "    r=int(input()) \n",
    "    si=(p*n*r)/100\n",
    "    print(\"The Simple Interest is \"+str(si))\n",
    "    print(dir()) \n",
    "    return si\n",
    "      \n",
    "\n",
    "def ceil_floor(a,b):\n",
    "    a= math.ceil(eval(input()))\n",
    "    b= math.floor(eval(input()))\n",
    "    print(round(a))\n",
    "    print(round(b))\n",
    "\n",
    "    return a,b\n",
    "\n",
    "from math import sqrt\n",
    "def lists():\n",
    "    lst=list()\n",
    "    for i in range(0,5):\n",
    "        a=int(input())\n",
    "        ele = round(math.sqrt(a),2)\n",
    "        lst.append(ele)\n",
    "    print(lst)\n",
    "    print(type(ele))\n",
    "    return lst\n",
    "\n",
    "# Driver code\n",
    "p=0\n",
    "n=0\n",
    "r=0\n",
    "si=sim_int(p,n,r) \n",
    "a=0\n",
    "b=0\n",
    "c=ceil_floor(a,b)\n",
    "e=lists()\n",
    "\n",
    "# inputs\n",
    "''''3000\n",
    "5\n",
    "1\n",
    "5.5+6.5-8.5\n",
    "5.5+6.5-8.5\n",
    "5\n",
    "6\n",
    "7\n",
    "8\n",
    "10'''"
   ]
  }
 ],
 "metadata": {
  "language_info": {
   "name": "python"
  },
  "orig_nbformat": 4
 },
 "nbformat": 4,
 "nbformat_minor": 2
}
